{
  "nbformat": 4,
  "nbformat_minor": 0,
  "metadata": {
    "colab": {
      "name": "08_18101501_MDFahimIslam",
      "provenance": [],
      "collapsed_sections": []
    },
    "kernelspec": {
      "name": "python3",
      "display_name": "Python 3"
    },
    "language_info": {
      "name": "python"
    }
  },
  "cells": [
    {
      "cell_type": "markdown",
      "metadata": {
        "id": "LJ47GGZY4iAz"
      },
      "source": [
        "#DFS implementation"
      ]
    },
    {
      "cell_type": "code",
      "metadata": {
        "id": "IC9D3-Xp4dUu"
      },
      "source": [
        "inputFile = open('/content/drive/MyDrive/Fall2021/CSE422/Lab1 Inputs/Question1input1.txt','r')\n",
        "# inputFile = open('/content/drive/MyDrive/Fall2021/CSE422/Lab1 Inputs/Question1input2.txt','r')"
      ],
      "execution_count": null,
      "outputs": []
    },
    {
      "cell_type": "code",
      "metadata": {
        "colab": {
          "base_uri": "https://localhost:8080/"
        },
        "id": "RLt_qnnH6GgG",
        "outputId": "886304df-cd1c-4aa8-913e-9f057573baf5"
      },
      "source": [
        "lines = inputFile.readlines()\n",
        "print(len(lines))\n",
        "adj_matrix = []\n",
        "row=len(lines)\n",
        "column=0\n",
        "count =0"
      ],
      "execution_count": null,
      "outputs": [
        {
          "output_type": "stream",
          "name": "stdout",
          "text": [
            "6\n"
          ]
        }
      ]
    },
    {
      "cell_type": "code",
      "metadata": {
        "colab": {
          "base_uri": "https://localhost:8080/"
        },
        "id": "Vk8VJfR16IAA",
        "outputId": "20f18ffd-6541-4903-eca7-cbf1282cc01e"
      },
      "source": [
        "for line in lines:\n",
        "  line = line.strip()\n",
        "  column = len(line.split(' '))\n",
        "  adj_matrix.append(line.split(' '))\n",
        "  print(line.strip())"
      ],
      "execution_count": null,
      "outputs": [
        {
          "output_type": "stream",
          "name": "stdout",
          "text": [
            "N N N Y Y N N\n",
            "N Y N N Y Y N\n",
            "Y Y N Y N N Y\n",
            "N N N N N Y N\n",
            "Y Y N N N N N\n",
            "N N N Y N N N\n"
          ]
        }
      ]
    },
    {
      "cell_type": "code",
      "metadata": {
        "colab": {
          "base_uri": "https://localhost:8080/"
        },
        "id": "iPonqEev6olR",
        "outputId": "3eb96249-6b8c-45c1-853e-2a86faa32bce"
      },
      "source": [
        "print(row,'X',column)\n",
        "adj_matrix"
      ],
      "execution_count": null,
      "outputs": [
        {
          "output_type": "stream",
          "name": "stdout",
          "text": [
            "6 X 7\n"
          ]
        },
        {
          "output_type": "execute_result",
          "data": {
            "text/plain": [
              "[['N', 'N', 'N', 'Y', 'Y', 'N', 'N'],\n",
              " ['N', 'Y', 'N', 'N', 'Y', 'Y', 'N'],\n",
              " ['Y', 'Y', 'N', 'Y', 'N', 'N', 'Y'],\n",
              " ['N', 'N', 'N', 'N', 'N', 'Y', 'N'],\n",
              " ['Y', 'Y', 'N', 'N', 'N', 'N', 'N'],\n",
              " ['N', 'N', 'N', 'Y', 'N', 'N', 'N']]"
            ]
          },
          "metadata": {},
          "execution_count": 316
        }
      ]
    },
    {
      "cell_type": "code",
      "metadata": {
        "id": "oPXZJFPi62tJ"
      },
      "source": [
        "totalYInRegion = []\n",
        "def dfs(startingR,startingC):\n",
        "  global count\n",
        "  global adj_matrix\n",
        "  stack = []\n",
        "  stack.append([startingR,startingC])\n",
        "  count += 1\n",
        "  while len(stack) !=0:\n",
        "    # print(len(stack))\n",
        "    # print(stack)\n",
        "    r,c = stack[len(stack)-1][0],stack[len(stack)-1][1]\n",
        "    # print(r,c)\n",
        "    adj_matrix[r][c] = 'N'\n",
        "    stack.pop()\n",
        "    if r>=0 and r<row and (c+1)>=0 and (c+1)<column:\n",
        "      if adj_matrix[r][c+1] == 'Y':\n",
        "        stack.append([r,c+1])\n",
        "        adj_matrix[r][c+1] = 'N'\n",
        "        count += 1\n",
        "    if r>=0 and r<row and (c-1)>=0 and (c-1)<column:\n",
        "      if  adj_matrix[r][c-1] == 'Y':\n",
        "        stack.append([r,c-1])\n",
        "        adj_matrix[r][c-1] = 'N'\n",
        "        count += 1\n",
        "    if (r+1)>=0 and (r+1)<row and c>=0 and c<column:\n",
        "      if adj_matrix[r+1][c] == 'Y':\n",
        "        stack.append([r+1,c])\n",
        "        adj_matrix[r+1][c] = 'N'\n",
        "        count += 1\n",
        "    if (r-1)>=0 and (r-1)<row and c>=0 and c<column:\n",
        "      if adj_matrix[r-1][c] == 'Y':\n",
        "        stack.append([r-1,c])\n",
        "        adj_matrix[r-1][c] = 'N'\n",
        "        count += 1\n",
        "    if (r+1)>=0 and (r+1)<row and (c+1)>=0 and (c+1)<column:\n",
        "      if adj_matrix[r+1][c+1] == 'Y':\n",
        "        stack.append([r+1,c+1])\n",
        "        adj_matrix[r+1][c+1] = 'N'\n",
        "        count += 1\n",
        "    if (r+1)>=0 and (r+1)<row and (c-1)>=0 and (c-1)<column:\n",
        "      if adj_matrix[r+1][c-1] == 'Y':\n",
        "        stack.append([r+1,c-1])\n",
        "        adj_matrix[r+1][c-1] = 'N'\n",
        "        count += 1\n",
        "  # print(count)\n",
        "  totalYInRegion.append(count)\n",
        "  count=0\n",
        "    \n",
        "\n",
        "\n",
        "      \n",
        "    "
      ],
      "execution_count": null,
      "outputs": []
    },
    {
      "cell_type": "code",
      "metadata": {
        "id": "NKWE8tt-86Wu"
      },
      "source": [
        "\n",
        "global adj_matrix\n",
        "startRow = 0\n",
        "startColumn = 0\n",
        "isFound = False\n",
        "for i in range(0,row):\n",
        "  for j in range(0,column):\n",
        "    if adj_matrix[i][j] == 'Y':\n",
        "      dfs(i,j)"
      ],
      "execution_count": null,
      "outputs": []
    },
    {
      "cell_type": "markdown",
      "metadata": {
        "id": "3h4viZ1gXufY"
      },
      "source": [
        "###Output Of Question 1"
      ]
    },
    {
      "cell_type": "code",
      "metadata": {
        "colab": {
          "base_uri": "https://localhost:8080/"
        },
        "id": "cHMberLuocHz",
        "outputId": "2c6751e2-8b2d-40de-c97d-db5a30fb2acd"
      },
      "source": [
        "max(totalYInRegion)"
      ],
      "execution_count": null,
      "outputs": [
        {
          "output_type": "execute_result",
          "data": {
            "text/plain": [
              "7"
            ]
          },
          "metadata": {},
          "execution_count": 319
        }
      ]
    },
    {
      "cell_type": "markdown",
      "metadata": {
        "id": "11qBoC--VNX_"
      },
      "source": [
        "#BFS Implementation"
      ]
    },
    {
      "cell_type": "code",
      "metadata": {
        "id": "RC_A2DRiPZBG"
      },
      "source": [
        "inputFile = open('/content/drive/MyDrive/Fall2021/CSE422/Lab1 Inputs/Question2 input1.txt','r')\n",
        "# inputFile = open('/content/drive/MyDrive/Fall2021/CSE422/Lab1 Inputs/Question2 input2.txt','r')"
      ],
      "execution_count": null,
      "outputs": []
    },
    {
      "cell_type": "code",
      "metadata": {
        "id": "lr1vJRY4P8Di"
      },
      "source": [
        "row = int(inputFile.readline())\n",
        "column = int(inputFile.readline())\n",
        "lines = inputFile.readlines()\n",
        "matrix = []"
      ],
      "execution_count": null,
      "outputs": []
    },
    {
      "cell_type": "code",
      "metadata": {
        "colab": {
          "base_uri": "https://localhost:8080/"
        },
        "id": "JfjpChp-QBSv",
        "outputId": "aa64450e-860f-4a0c-fd3e-fefc5c6f4df1"
      },
      "source": [
        "print(row,column)\n",
        "for line in lines:\n",
        "  line = line.strip()\n",
        "  column = len(line.split(' '))\n",
        "  matrix.append(line.split(' '))\n",
        "  print(line.strip())"
      ],
      "execution_count": null,
      "outputs": [
        {
          "output_type": "stream",
          "name": "stdout",
          "text": [
            "5 4\n",
            "A H T H\n",
            "H H T A\n",
            "T T H H\n",
            "A H T H\n",
            "H T H H\n"
          ]
        }
      ]
    },
    {
      "cell_type": "code",
      "metadata": {
        "colab": {
          "base_uri": "https://localhost:8080/"
        },
        "id": "HkQzmJSqQ14j",
        "outputId": "2d1a7204-c7b9-4b4b-8427-aaad43c39c9a"
      },
      "source": [
        "for m in matrix:\n",
        "  print(m)"
      ],
      "execution_count": null,
      "outputs": [
        {
          "output_type": "stream",
          "name": "stdout",
          "text": [
            "['A', 'H', 'T', 'H']\n",
            "['H', 'H', 'T', 'A']\n",
            "['T', 'T', 'H', 'H']\n",
            "['A', 'H', 'T', 'H']\n",
            "['H', 'T', 'H', 'H']\n"
          ]
        }
      ]
    },
    {
      "cell_type": "code",
      "metadata": {
        "id": "nCrsWWhfQ5pD"
      },
      "source": [
        "queue = []\n",
        "times = 0"
      ],
      "execution_count": null,
      "outputs": []
    },
    {
      "cell_type": "code",
      "metadata": {
        "id": "3IWgK0wjYCuD"
      },
      "source": [
        "def select_initial_Aliens():\n",
        "  global queue\n",
        "  for i in range(0,row):\n",
        "    for j in range(0,column):\n",
        "      if matrix[i][j] == 'A':\n",
        "        if i>=0 and i<row and (j-1)>=0 and (j-1)<column and matrix[i][j-1] == 'H':\n",
        "            queue.append([i,j])\n",
        "        elif i>=0 and i<row and (j+1)>=0 and (j+1)<column and  matrix[i][j+1] == 'H':\n",
        "            queue.append([i,j])\n",
        "        elif (i+1)>=0 and (i+1)<row and j>=0 and j<column and matrix[i+1][j] == 'H':\n",
        "            queue.append([i,j])\n",
        "        elif (i-1)>=0 and (i-1)<row and j>=0 and j<column and matrix[i-1][j] == 'H':\n",
        "            queue.append([i,j])\n",
        "  print(queue)"
      ],
      "execution_count": null,
      "outputs": []
    },
    {
      "cell_type": "code",
      "metadata": {
        "colab": {
          "base_uri": "https://localhost:8080/"
        },
        "id": "KNR8M_mLeNv2",
        "outputId": "b620d867-15f8-4f24-d7d3-3c3ce9aa06aa"
      },
      "source": [
        "select_initial_Aliens()"
      ],
      "execution_count": null,
      "outputs": [
        {
          "output_type": "stream",
          "name": "stdout",
          "text": [
            "[[0, 0], [1, 3], [3, 0]]\n"
          ]
        }
      ]
    },
    {
      "cell_type": "code",
      "metadata": {
        "id": "21PlF4CDeREM"
      },
      "source": [
        "def runBFS():\n",
        "  global times\n",
        "  global queue\n",
        "  while len(queue) != 0:\n",
        "    leafNodeList = []\n",
        "    while len(queue) != 0:\n",
        "      v = queue.pop(0)\n",
        "      if v[0]>=0 and v[0]<row and (v[1]-1)>=0 and (v[1]-1)<column and matrix[v[0]][v[1]-1] == 'H':\n",
        "        matrix[v[0]][v[1]-1] = 'A'\n",
        "        i = v[0]\n",
        "        j = v[1]-1\n",
        "        if i>=0 and i<row and (j-1)>=0 and (j-1)<column and matrix[i][j-1]== 'H':\n",
        "          leafNodeList.append([i,j-1])\n",
        "        if i>=0 and i<row and (j+1)>=0 and (j+1)<column and matrix[i][j+1]== 'H':\n",
        "          leafNodeList.append([i,j+1])\n",
        "        if i+1>=0 and i+1<row and j>=0 and j<column and matrix[i+1][j]== 'H':\n",
        "          leafNodeList.append([i+1,j])\n",
        "        if i-1>=0 and i-1<row and j>=0 and j<column and matrix[i-1][j]== 'H':\n",
        "          leafNodeList.append([i-1,j])\n",
        "      if v[0]>=0 and v[0]<row and (v[1]+1)>=0 and (v[1]+1)<column and  matrix[v[0]][v[1]+1] == 'H':\n",
        "        matrix[v[0]][v[1]+1] = 'A'\n",
        "        i = v[0]\n",
        "        j = v[1]+1\n",
        "        if i>=0 and i<row and (j-1)>=0 and (j-1)<column and matrix[i][j-1]== 'H':\n",
        "          leafNodeList.append([i,j])\n",
        "        if i>=0 and i<row and (j+1)>=0 and (j+1)<column and matrix[i][j+1]== 'H':\n",
        "          leafNodeList.append([i,j])\n",
        "        if i+1>=0 and i+1<row and j>=0 and j<column and matrix[i+1][j]== 'H':\n",
        "          leafNodeList.append([i,j])\n",
        "        if i-1>=0 and i-1<row and j>=0 and j<column and matrix[i-1][j]== 'H':\n",
        "          leafNodeList.append([i,j])\n",
        "      if (v[0]+1)>=0 and (v[0]+1)<row and v[1]>=0 and v[1]<column  and  matrix[v[0]+1][v[1]] == 'H':\n",
        "        matrix[v[0]+1][v[1]] = 'A'\n",
        "        i = v[0]+1\n",
        "        j = v[1]\n",
        "        if i>=0 and i<row and (j-1)>=0 and (j-1)<column and matrix[i][j-1]== 'H':\n",
        "          leafNodeList.append([i,j])\n",
        "        if i>=0 and i<row and (j+1)>=0 and (j+1)<column and matrix[i][j+1]== 'H':\n",
        "          leafNodeList.append([i,j])\n",
        "        if i+1>=0 and i+1<row and j>=0 and j<column and matrix[i+1][j]== 'H':\n",
        "          leafNodeList.append([i,j])\n",
        "        if i-1>=0 and i-1<row and j>=0 and j<column and matrix[i-1][j]== 'H':\n",
        "          leafNodeList.append([i,j])\n",
        "      if (v[0]-1)>=0 and (v[0]-1)<row and v[1]>=0 and v[1]<column and  matrix[v[0]-1][v[1]] == 'H':\n",
        "        matrix[v[0]-1][v[1]] = 'A'\n",
        "        i = v[0]-1\n",
        "        j = v[1]\n",
        "        if i>=0 and i<row and (j-1)>=0 and (j-1)<column and matrix[i][j-1]== 'H':\n",
        "          leafNodeList.append([i,j])\n",
        "        if i>=0 and i<row and (j+1)>=0 and (j+1)<column and matrix[i][j+1]== 'H':\n",
        "          leafNodeList.append([i,j])\n",
        "        if i+1>=0 and i+1<row and j>=0 and j<column and matrix[i+1][j]== 'H':\n",
        "          leafNodeList.append([i,j])\n",
        "        if i-1>=0 and i-1<row and j>=0 and j<column and matrix[i-1][j]== 'H':\n",
        "          leafNodeList.append([i,j])\n",
        "          for m in matrix:\n",
        "            print(m)\n",
        "        #leafNodeList.append([v[0]-1,v[1]])\n",
        "    times += 1\n",
        "    for leaf in leafNodeList:\n",
        "      queue.append(leaf)\n",
        "    "
      ],
      "execution_count": null,
      "outputs": []
    },
    {
      "cell_type": "code",
      "metadata": {
        "id": "DdCXJaDBYaNT"
      },
      "source": [
        "runBFS()"
      ],
      "execution_count": null,
      "outputs": []
    },
    {
      "cell_type": "code",
      "metadata": {
        "colab": {
          "base_uri": "https://localhost:8080/"
        },
        "id": "gSeklWfRWaqH",
        "outputId": "3bdb6bb1-15d6-47a2-adc6-964af1e635e5"
      },
      "source": [
        "for m in matrix:\n",
        "  print(m)"
      ],
      "execution_count": null,
      "outputs": [
        {
          "output_type": "stream",
          "name": "stdout",
          "text": [
            "['A', 'A', 'T', 'A']\n",
            "['A', 'A', 'T', 'A']\n",
            "['T', 'T', 'A', 'A']\n",
            "['A', 'A', 'T', 'A']\n",
            "['A', 'T', 'A', 'A']\n"
          ]
        }
      ]
    },
    {
      "cell_type": "markdown",
      "metadata": {
        "id": "OZNwij3bXeGS"
      },
      "source": [
        "###Output Of Question 2"
      ]
    },
    {
      "cell_type": "code",
      "metadata": {
        "colab": {
          "base_uri": "https://localhost:8080/"
        },
        "id": "_U2yM3XzRhC5",
        "outputId": "d1847aaa-05b9-4b9e-b38b-f95286a94865"
      },
      "source": [
        "print(\"Time:\",times,\"minutes\")\n",
        "count=0\n",
        "for m in matrix:\n",
        "  for h in m:\n",
        "    if h=='H':\n",
        "      count+=1\n",
        "if count == 0:\n",
        "  print(\"No one survived\")\n",
        "else:\n",
        "  print(count,\" survived \")"
      ],
      "execution_count": null,
      "outputs": [
        {
          "output_type": "stream",
          "name": "stdout",
          "text": [
            "Time: 4 minutes\n",
            "No one survived\n"
          ]
        }
      ]
    },
    {
      "cell_type": "code",
      "metadata": {
        "id": "MAMHTg1jXHWc"
      },
      "source": [
        ""
      ],
      "execution_count": null,
      "outputs": []
    }
  ]
}
