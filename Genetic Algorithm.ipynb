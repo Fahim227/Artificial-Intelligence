{
  "nbformat": 4,
  "nbformat_minor": 0,
  "metadata": {
    "colab": {
      "name": "08_18101501_MDFahimIslam",
      "provenance": [],
      "collapsed_sections": []
    },
    "kernelspec": {
      "name": "python3",
      "display_name": "Python 3"
    },
    "language_info": {
      "name": "python"
    }
  },
  "cells": [
    {
      "cell_type": "code",
      "metadata": {
        "id": "J2lhqXpJ47yl"
      },
      "source": [
        "import random as r"
      ],
      "execution_count": null,
      "outputs": []
    },
    {
      "cell_type": "code",
      "metadata": {
        "id": "qzJkAvgSR6fh"
      },
      "source": [
        "inputFile = open(\"/content/drive/MyDrive/Fall2021/CSE422/lab2/q1\")\n",
        "# inputFile = open(\"/content/drive/MyDrive/Fall2021/CSE422/lab2/q2\")"
      ],
      "execution_count": null,
      "outputs": []
    },
    {
      "cell_type": "code",
      "metadata": {
        "colab": {
          "base_uri": "https://localhost:8080/"
        },
        "id": "hrkLp8VuT0-A",
        "outputId": "b0888dd7-2486-4321-8dc2-01cb0003ff46"
      },
      "source": [
        "n = int(inputFile.readline())\n",
        "n"
      ],
      "execution_count": null,
      "outputs": [
        {
          "output_type": "execute_result",
          "data": {
            "text/plain": [
              "7"
            ]
          },
          "metadata": {},
          "execution_count": 2347
        }
      ]
    },
    {
      "cell_type": "code",
      "metadata": {
        "colab": {
          "base_uri": "https://localhost:8080/"
        },
        "id": "U1BIoO8PT_yK",
        "outputId": "cc902e2e-0b88-4a30-93d6-aabe7d36c0bc"
      },
      "source": [
        "lines = inputFile.readlines()\n",
        "lines"
      ],
      "execution_count": null,
      "outputs": [
        {
          "output_type": "execute_result",
          "data": {
            "text/plain": [
              "['l 120\\n', 'l 289\\n', 'd 475\\n', 'l 195\\n', 'd 6482\\n', 'l 160\\n', 'd 935\\n']"
            ]
          },
          "metadata": {},
          "execution_count": 2348
        }
      ]
    },
    {
      "cell_type": "code",
      "metadata": {
        "id": "AC-9rhowUHkz"
      },
      "source": [
        "data = []"
      ],
      "execution_count": null,
      "outputs": []
    },
    {
      "cell_type": "code",
      "metadata": {
        "id": "neSSfTuvUMHN"
      },
      "source": [
        "for line in lines:\n",
        "  data.append(line.strip())"
      ],
      "execution_count": null,
      "outputs": []
    },
    {
      "cell_type": "code",
      "metadata": {
        "id": "uIHN3DGxUTlE",
        "colab": {
          "base_uri": "https://localhost:8080/"
        },
        "outputId": "28c06fab-00b9-497e-ff46-e040217a7f22"
      },
      "source": [
        "len(data)"
      ],
      "execution_count": null,
      "outputs": [
        {
          "output_type": "execute_result",
          "data": {
            "text/plain": [
              "7"
            ]
          },
          "metadata": {},
          "execution_count": 2351
        }
      ]
    },
    {
      "cell_type": "code",
      "metadata": {
        "id": "tBvL37vz53-u"
      },
      "source": [
        "def crossOver(x,y):\n",
        "  chromosome_len = len(x)\n",
        "  idx = r.randrange(0,chromosome_len-1)\n",
        "  # print(idx)\n",
        "  child_chromosome = x[:int(chromosome_len/2)]+y[int(chromosome_len/2):]\n",
        "  return child_chromosome"
      ],
      "execution_count": null,
      "outputs": []
    },
    {
      "cell_type": "code",
      "metadata": {
        "id": "K2x75ncA-jKn"
      },
      "source": [
        "def mutation(target):\n",
        "  child = list(target)\n",
        "  for i in range(0,1):\n",
        "    a = r.randint(0, len(target)-1)\n",
        "    # print(a)\n",
        "    b = r.randint(0, len(target)-1)\n",
        "    # print(b)\n",
        "    c = child[a]\n",
        "    child[a] = child[b]\n",
        "    child[b] = c\n",
        "  return ''.join(child)"
      ],
      "execution_count": null,
      "outputs": []
    },
    {
      "cell_type": "code",
      "metadata": {
        "id": "jcz-3VnEZL9v"
      },
      "source": [
        "def fitness_fn(chromosome):\n",
        "    fitness = 0\n",
        "    for i in range(len(chromosome)):\n",
        "      if chromosome[i] == \"1\":\n",
        "        if data[i].split()[0] == \"l\":\n",
        "          fitness -= int(data[i].split()[1])\n",
        "        else:\n",
        "          fitness += int(data[i].split()[1])\n",
        "    return fitness"
      ],
      "execution_count": null,
      "outputs": []
    },
    {
      "cell_type": "code",
      "metadata": {
        "id": "xsmeEu637QmR"
      },
      "source": [
        "fit = []\n",
        "parentPopulation = []\n",
        "def calculateFitness():\n",
        "  global population\n",
        "  for elem in population:\n",
        "    if fitness_fn(elem) <=400 and fitness_fn(elem)>=-400:\n",
        "      fit.append([elem,\" \",fitness_fn(elem)])\n",
        "      parentPopulation.append(elem)"
      ],
      "execution_count": null,
      "outputs": []
    },
    {
      "cell_type": "code",
      "metadata": {
        "id": "4lP_hiR5Q89u"
      },
      "source": [
        "def randomSelect(population):\n",
        "  x = r.randint(0,int((len(population)-1)/2))\n",
        "  y = r.randint(int((len(population)-1)/2),len(population)-1)\n",
        "  return population[x],population[y]"
      ],
      "execution_count": null,
      "outputs": []
    },
    {
      "cell_type": "code",
      "metadata": {
        "id": "_6LJTUXA_8mk"
      },
      "source": [
        "def geneticAlgo(population,n):\n",
        "  global fit\n",
        "  global s\n",
        "  global parentPopulation\n",
        "  found = False\n",
        "  resultChild = \"\"\n",
        "  print(\"Number of Population: \",len(parentPopulation))\n",
        "  for j in range(0,15000):\n",
        "    newPopulation = []\n",
        "    if s in parentPopulation:\n",
        "      parentPopulation.remove(s)\n",
        "    for i in range(len(parentPopulation)):\n",
        "      x,y = randomSelect(parentPopulation)\n",
        "      child = crossOver(x,y)\n",
        "      if s == child:\n",
        "          continue\n",
        "      if fitness_fn(child) == 0:\n",
        "        resultChild = child\n",
        "        found = True\n",
        "        break\n",
        "      child = mutation(child)\n",
        "      if s == child:\n",
        "          continue\n",
        "      if fitness_fn(child) == 0:\n",
        "          resultChild = child\n",
        "          found = True\n",
        "          break\n",
        "      else:\n",
        "          newPopulation.append(child)\n",
        "    if found:\n",
        "      break\n",
        "    population = newPopulation\n",
        "    if s in population:\n",
        "      population.remove(s)\n",
        "    # print(\"loop\",j)\n",
        "  if found:\n",
        "    print(resultChild)\n",
        "  else:\n",
        "    print(-1)\n"
      ],
      "execution_count": null,
      "outputs": []
    },
    {
      "cell_type": "code",
      "source": [
        "# Python3 code for printing Minimum Cost\n",
        "# Simple Path between two given nodes\n",
        "# in a directed and weighted graph\n",
        "import sys\n",
        "\n",
        "V = 5\n",
        "INF = sys.maxsize\n",
        "\n",
        "# Function to do DFS through the nodes\n",
        "def minimumCostSimplePath(u, destination,\n",
        "\t\t\t\t\t\tvisited, graph):\n",
        "\n",
        "\t# Check if we find the destination\n",
        "\t# then further cost will be 0\n",
        "\tif (u == destination):\n",
        "\t\treturn 0\n",
        "\n",
        "\t# Marking the current node as visited\n",
        "\tvisited[u] = 1\n",
        "\n",
        "\tans = INF\n",
        "\n",
        "\t# Traverse through all\n",
        "\t# the adjacent nodes\n",
        "\tfor i in range(V):\n",
        "\t\tif (graph[u][i] != INF and not visited[i]):\n",
        "\n",
        "\t\t\t# Cost of the further path\n",
        "\t\t\tcurr = minimumCostSimplePath(i, destination,\n",
        "\t\t\t\t\t\t\t\t\t\tvisited, graph)\n",
        "\n",
        "\t\t\t# Check if we have reached the destination\n",
        "\t\t\tif (curr < INF):\n",
        "\n",
        "\t\t\t\t# Taking the minimum cost path\n",
        "\t\t\t\tans = min(ans, graph[u][i] + curr)\n",
        "\t\t\t\n",
        "\t# Unmarking the current node\n",
        "\t# to make it available for other\n",
        "\t# simple paths\n",
        "\tvisited[u] = 0\n",
        "\n",
        "\t# Returning the minimum cost\n",
        "\treturn ans\n",
        "\t\n",
        "# Driver code\n",
        "if __name__==\"__main__\":\n",
        "\t\n",
        "\t# Initialising the graph\n",
        "  V = int(input())\n",
        "\t#graph = [[0 for j in range(V)] for i in range(V)]\n",
        "\n",
        "  visited = []\n",
        "\t# Marking all nodes as unvisited\n",
        "\t\n",
        "\n",
        "\t# Initialising the edges\n",
        "  for i in range(0,V):\n",
        "    for j in range(0,V):\n",
        "      graph[i][j] = int(input()) \n",
        "\n",
        "\t\n",
        "\t\n",
        "\t# Source and destination\n",
        "\ts = int(input())\n",
        "\tt = int(input())\n",
        "\n",
        "\t# Marking the source as visited\n",
        "\tvisited[s] = 1\n",
        "\t\n",
        "\tprint(minimumCostSimplePath(s, t, visited, graph))\n",
        "\n",
        "# This code is contributed by rutvik_56\n"
      ],
      "metadata": {
        "colab": {
          "base_uri": "https://localhost:8080/",
          "height": 130
        },
        "id": "WICnb9IYcEkn",
        "outputId": "82669d9f-8d5e-4ddc-89e0-c990906b2af2"
      },
      "execution_count": null,
      "outputs": [
        {
          "output_type": "error",
          "ename": "TabError",
          "evalue": "ignored",
          "traceback": [
            "\u001b[0;36m  File \u001b[0;32m\"<ipython-input-14-04e2981a4c26>\"\u001b[0;36m, line \u001b[0;32m65\u001b[0m\n\u001b[0;31m    s = int(input)\u001b[0m\n\u001b[0m                  ^\u001b[0m\n\u001b[0;31mTabError\u001b[0m\u001b[0;31m:\u001b[0m inconsistent use of tabs and spaces in indentation\n"
          ]
        }
      ]
    },
    {
      "cell_type": "markdown",
      "metadata": {
        "id": "nAWLqa6oe2Hx"
      },
      "source": [
        "## Start From here"
      ]
    },
    {
      "cell_type": "code",
      "metadata": {
        "colab": {
          "base_uri": "https://localhost:8080/"
        },
        "id": "7Xcx402U3HB6",
        "outputId": "bee44a19-d0c9-4364-ffc8-9a7ff8f2302c"
      },
      "source": [
        "s=\"\"\n",
        "for i in range(n):\n",
        "  s+=\"0\"\n",
        "global parentPopulation\n",
        "population = []\n",
        "i=0\n",
        "\n",
        "# Generating distinct Populations \n",
        "while len(parentPopulation) <15:\n",
        "  while i<=20:\n",
        "    chromosome = \"\"\n",
        "    for j in range(n):\n",
        "      chromosome += str(r.randrange(0,2))\n",
        "    if chromosome not in parentPopulation:\n",
        "      parentPopulation.append(chromosome)\n",
        "      i+=1\n",
        "  calculateFitness()\n",
        "  if s in parentPopulation:\n",
        "    parentPopulation.remove(s)\n",
        "geneticAlgo(parentPopulation,n)"
      ],
      "execution_count": null,
      "outputs": [
        {
          "output_type": "stream",
          "name": "stdout",
          "text": [
            "Number of Population:  21\n",
            "1011010\n"
          ]
        }
      ]
    },
    {
      "cell_type": "code",
      "metadata": {
        "id": "e02FpZ25Wz5y"
      },
      "source": [
        ""
      ],
      "execution_count": null,
      "outputs": []
    }
  ]
}